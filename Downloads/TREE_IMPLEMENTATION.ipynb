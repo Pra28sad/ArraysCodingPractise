{
 "cells": [
  {
   "cell_type": "code",
   "execution_count": 1,
   "id": "292854cb",
   "metadata": {},
   "outputs": [],
   "source": [
    "## TRee Node \n"
   ]
  },
  {
   "cell_type": "code",
   "execution_count": 3,
   "id": "4e313773",
   "metadata": {},
   "outputs": [],
   "source": [
    "class TreeNode:\n",
    "    def __init__(self,data):\n",
    "        self.data = data\n",
    "        self.left = None\n",
    "        self.right = None\n",
    "        \n",
    "    def setData(self,data):\n",
    "        self.data = data\n",
    "        \n",
    "    def getData(self):\n",
    "        return self.data\n",
    "    \n",
    "    def setLeft(self,node):\n",
    "        self.left = node\n",
    "        \n",
    "    def getLeft(self):\n",
    "        return self.left\n",
    "    \n",
    "    def setRight(self,node):\n",
    "        self.right = node\n",
    "        \n",
    "    def getRight(self):\n",
    "        return self.right\n",
    "    \n",
    "    \n",
    "## constructing tree\n",
    "root = TreeNode(1)\n",
    "\n",
    "## left subtree\n",
    "leftR = TreeNode(2)\n",
    "leftR.setLeft(TreeNode(3))\n",
    "leftR.setRight(TreeNode(4))\n",
    "root.setLeft(leftR)\n",
    "\n",
    "## right subtree\n",
    "rightR = TreeNode(5)\n",
    "rightR.setLeft(TreeNode(6))\n",
    "rightR.setRight(TreeNode(7))\n",
    "root.setRight(rightR)\n",
    "\n"
   ]
  },
  {
   "cell_type": "code",
   "execution_count": 4,
   "id": "cd1f592f",
   "metadata": {},
   "outputs": [],
   "source": [
    "## Pre order traversel \n",
    "\n",
    "def PreOrder(root):\n",
    "    if not root:\n",
    "        return \n",
    "    print(root.getData(),end=\"-> \")\n",
    "    \n",
    "    PreOrder(root.getLeft())\n",
    "    PreOrder(root.getRight())\n",
    "    \n",
    "    "
   ]
  },
  {
   "cell_type": "code",
   "execution_count": 5,
   "id": "e980f0af",
   "metadata": {},
   "outputs": [
    {
     "name": "stdout",
     "output_type": "stream",
     "text": [
      "1-> 2-> 3-> 4-> 5-> 6-> 7-> "
     ]
    }
   ],
   "source": [
    "PreOrder(root)"
   ]
  },
  {
   "cell_type": "code",
   "execution_count": 6,
   "id": "3e53a065",
   "metadata": {},
   "outputs": [],
   "source": [
    "## in order traversel tree\n",
    "\n",
    "def InOrder(root):\n",
    "    if not root:\n",
    "        return\n",
    "    \n",
    "    InOrder(root.getLeft())\n",
    "    print(root.getData(),end=\"->\")\n",
    "    InOrder(root.getRight())"
   ]
  },
  {
   "cell_type": "code",
   "execution_count": 7,
   "id": "64c40731",
   "metadata": {},
   "outputs": [
    {
     "name": "stdout",
     "output_type": "stream",
     "text": [
      "3->2->4->1->6->5->7->"
     ]
    }
   ],
   "source": [
    "InOrder(root)"
   ]
  },
  {
   "cell_type": "code",
   "execution_count": 8,
   "id": "bed37682",
   "metadata": {},
   "outputs": [
    {
     "name": "stdout",
     "output_type": "stream",
     "text": [
      "3->4->2->6->7->5->1->"
     ]
    }
   ],
   "source": [
    "### post order traversel\n",
    "\n",
    "def PostOrder(root):\n",
    "    if not root:\n",
    "        return\n",
    "    \n",
    "    ## left subtree traversing\n",
    "    PostOrder(root.getLeft())\n",
    "    \n",
    "    ## right sub Tree traversing\n",
    "    PostOrder(root.getRight())\n",
    "    \n",
    "    ## printing the data\n",
    "    print(root.getData(),end=\"->\")\n",
    "    \n",
    "PostOrder(root)"
   ]
  },
  {
   "cell_type": "code",
   "execution_count": 9,
   "id": "e5a93b14",
   "metadata": {},
   "outputs": [],
   "source": [
    "## Level order approach or bfs (breadth first search)\n",
    "\n",
    "## first of all we have to create the queue\n",
    "\n"
   ]
  },
  {
   "cell_type": "code",
   "execution_count": 10,
   "id": "1810dbaf",
   "metadata": {},
   "outputs": [],
   "source": [
    "class Node:\n",
    "    def __init__(self,data,Next=None):\n",
    "        self.data=data\n",
    "        self.next = Next\n",
    "        \n",
    "    def setData(self,data):\n",
    "        self.data=data\n",
    "        \n",
    "    def getData(self):\n",
    "        return self.data\n",
    "    \n",
    "    def setNext(self,Next):\n",
    "        self.next = Next\n",
    "        \n",
    "    def getNext(self):\n",
    "        return self.next\n",
    "    \n",
    "class QueueLL:\n",
    "    def __init__(self):\n",
    "        self.head = None\n",
    "        self.tail = None\n",
    "        self.size = 0\n",
    "        \n",
    "    def isEmpty(self):\n",
    "        return self.head == None\n",
    "    \n",
    "    def enQueue(self,data):\n",
    "        node = Node(data)\n",
    "        if self.isEmpty():\n",
    "            self.head = node\n",
    "            self.tail = node\n",
    "            \n",
    "        else:\n",
    "            self.tail.setNext(node)\n",
    "            self.tail = self.tail.getNext()\n",
    "        self.size += 1\n",
    "        \n",
    "    def deQueue(self):\n",
    "        if self.isEmpty():\n",
    "            print(\"Empty\")\n",
    "            return \n",
    "        \n",
    "        data = self.head.getData()\n",
    "        \n",
    "        if self.head == self.tail :\n",
    "            self.head = None\n",
    "            self.tail = None\n",
    "            \n",
    "        else:\n",
    "            self.head = self.head.getNext()\n",
    "            \n",
    "        self.size -= 1\n",
    "        return data\n",
    "    \n",
    "    def legth(self):\n",
    "        return self.size\n",
    "    \n",
    "    def traverse(self):\n",
    "        temp = self.head\n",
    "        while temp:\n",
    "            print(temp.getData(),end= \" ->\")\n",
    "            temp = temp.getNext()\n",
    "            \n",
    "            "
   ]
  },
  {
   "cell_type": "code",
   "execution_count": 13,
   "id": "5b9a5476",
   "metadata": {},
   "outputs": [],
   "source": [
    "## level order or BFS\n",
    "\n",
    "def levelOrder(root):\n",
    "    if not root:\n",
    "        return\n",
    "    \n",
    "    q = QueueLL()\n",
    "    q.enQueue(root)\n",
    "    while not q.isEmpty():\n",
    "        temp = q.deQueue()\n",
    "        print(temp.getData(),end=\"->\")\n",
    "        \n",
    "        if temp.getLeft():\n",
    "            q.enQueue(temp.getLeft())\n",
    "            \n",
    "        if temp.getRight():\n",
    "            q.enQueue(temp.getRight())"
   ]
  },
  {
   "cell_type": "code",
   "execution_count": 14,
   "id": "9cf7aa7a",
   "metadata": {},
   "outputs": [
    {
     "name": "stdout",
     "output_type": "stream",
     "text": [
      "1->2->5->3->4->6->7->"
     ]
    }
   ],
   "source": [
    "levelOrder(root)"
   ]
  },
  {
   "cell_type": "code",
   "execution_count": 19,
   "id": "d2776697",
   "metadata": {},
   "outputs": [],
   "source": [
    "## finding maximum element in tree\n",
    "def maximum(a,b,c):\n",
    "    return a if a>b and a>c else b if b>c and b>a else c\n",
    "\n",
    "def find_maximum(root):\n",
    "    if not root:\n",
    "        return float(\"-inf\")\n",
    "    \n",
    "    max_left=find_maximum(root.getLeft())\n",
    "    max_right = find_maximum(root.getRight())\n",
    "    \n",
    "    return maximum(max_left,max_right,root.getData())\n",
    "\n",
    "    "
   ]
  },
  {
   "cell_type": "code",
   "execution_count": 20,
   "id": "07ddfe01",
   "metadata": {},
   "outputs": [
    {
     "data": {
      "text/plain": [
       "7"
      ]
     },
     "execution_count": 20,
     "metadata": {},
     "output_type": "execute_result"
    }
   ],
   "source": [
    "find_maximum(root)"
   ]
  },
  {
   "cell_type": "code",
   "execution_count": 23,
   "id": "001fb7cf",
   "metadata": {},
   "outputs": [],
   "source": [
    "root = TreeNode(5)\n",
    "\n",
    "leftTree = TreeNode(8)\n",
    "leftTree.setLeft(TreeNode(10))\n",
    "leftTree.setRight(TreeNode(2))\n",
    "root.setLeft(leftTree)\n",
    "\n",
    "rightTree = TreeNode(18)\n",
    "rightTree.setLeft(TreeNode(5))\n",
    "rightTree.setRight(TreeNode(7))\n",
    "root.setRight(rightTree)\n",
    "\n"
   ]
  },
  {
   "cell_type": "code",
   "execution_count": 24,
   "id": "3e242378",
   "metadata": {},
   "outputs": [
    {
     "data": {
      "text/plain": [
       "18"
      ]
     },
     "execution_count": 24,
     "metadata": {},
     "output_type": "execute_result"
    }
   ],
   "source": [
    "find_maximum(root)"
   ]
  },
  {
   "cell_type": "code",
   "execution_count": 27,
   "id": "23b968ee",
   "metadata": {},
   "outputs": [
    {
     "data": {
      "text/plain": [
       "2"
      ]
     },
     "execution_count": 27,
     "metadata": {},
     "output_type": "execute_result"
    }
   ],
   "source": [
    "## finding minimum\n",
    "\n",
    "def minimum(a,b,c):\n",
    "    return a if (a<b and a<c) else b if (b<a and b<c) else c\n",
    "\n",
    "def find_minimum(root):\n",
    "    if not root:\n",
    "        return float(\"inf\")\n",
    "    \n",
    "    min_left = find_minimum(root.getLeft())\n",
    "    min_right = find_minimum(root.getRight())\n",
    "    \n",
    "    return minimum(min_left,min_right,root.getData())\n",
    "\n",
    "find_minimum(root)"
   ]
  },
  {
   "cell_type": "code",
   "execution_count": null,
   "id": "280269a2",
   "metadata": {},
   "outputs": [],
   "source": []
  }
 ],
 "metadata": {
  "kernelspec": {
   "display_name": "Python 3 (ipykernel)",
   "language": "python",
   "name": "python3"
  },
  "language_info": {
   "codemirror_mode": {
    "name": "ipython",
    "version": 3
   },
   "file_extension": ".py",
   "mimetype": "text/x-python",
   "name": "python",
   "nbconvert_exporter": "python",
   "pygments_lexer": "ipython3",
   "version": "3.11.5"
  }
 },
 "nbformat": 4,
 "nbformat_minor": 5
}
