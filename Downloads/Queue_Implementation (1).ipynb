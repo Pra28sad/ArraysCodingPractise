{
 "cells": [
  {
   "cell_type": "code",
   "execution_count": 1,
   "id": "6bc8b88e",
   "metadata": {},
   "outputs": [],
   "source": [
    "## Queue >> lilo or fifo"
   ]
  },
  {
   "cell_type": "code",
   "execution_count": 9,
   "id": "42b25d79",
   "metadata": {},
   "outputs": [],
   "source": [
    "class Queue:\n",
    "    def __init__(self,capacity):\n",
    "        self.arr = [None]*capacity\n",
    "        self.capacity = capacity\n",
    "        self.rear=-1\n",
    "        self.front = -1\n",
    "        self.size = 0\n",
    "        \n",
    "    def isEmpty(self):\n",
    "        return self.front==-1\n",
    "    \n",
    "    def isFull(self):\n",
    "        return (self.front+1) == self.rear\n",
    "    \n",
    "    def enQueue(self,data):\n",
    "        if self.isFull():\n",
    "            print(\"Storage is  full\")\n",
    "            return \n",
    "        \n",
    "        self.size += 1\n",
    "        self.front = (self.front+1)%self.capacity\n",
    "        self.arr[self.front] = data\n",
    "        if self.rear==-1:\n",
    "            self.rear = 0\n",
    "            \n",
    "    def deQueue(self):\n",
    "        if self.isEmpty():\n",
    "            print(\"storage is empty\")\n",
    "            return \n",
    "        \n",
    "        self.size -=1\n",
    "        data = self.arr[self.rear]\n",
    "        \n",
    "        if self.rear == self.front :\n",
    "            self.rear = -1\n",
    "            self.front = -1\n",
    "        else:\n",
    "            self.rear = (self.rear+1)%self.capacity\n",
    "            \n",
    "        return data\n",
    "    \n",
    "    def length(self):\n",
    "        return self.size\n",
    "    \n",
    "    def traverse(self):\n",
    "        if self.isEmpty():\n",
    "            print(\"Empty\")\n",
    "            return\n",
    "        \n",
    "        for i in range(self.size):\n",
    "            print(self.arr[self.rear+i])\n",
    "            "
   ]
  },
  {
   "cell_type": "code",
   "execution_count": 10,
   "id": "a57b8d1f",
   "metadata": {},
   "outputs": [],
   "source": [
    "queue = Queue(8)"
   ]
  },
  {
   "cell_type": "code",
   "execution_count": 11,
   "id": "42efa797",
   "metadata": {},
   "outputs": [],
   "source": [
    "queue.enQueue(5)"
   ]
  },
  {
   "cell_type": "code",
   "execution_count": 12,
   "id": "23ba3cbc",
   "metadata": {},
   "outputs": [],
   "source": [
    "queue.enQueue(8)"
   ]
  },
  {
   "cell_type": "code",
   "execution_count": 13,
   "id": "999df796",
   "metadata": {},
   "outputs": [],
   "source": [
    "queue.enQueue(9)"
   ]
  },
  {
   "cell_type": "code",
   "execution_count": 14,
   "id": "19d3d4e4",
   "metadata": {},
   "outputs": [
    {
     "name": "stdout",
     "output_type": "stream",
     "text": [
      "5\n",
      "8\n",
      "9\n"
     ]
    }
   ],
   "source": [
    "queue.traverse()"
   ]
  },
  {
   "cell_type": "code",
   "execution_count": 15,
   "id": "f36f80a2",
   "metadata": {},
   "outputs": [
    {
     "data": {
      "text/plain": [
       "5"
      ]
     },
     "execution_count": 15,
     "metadata": {},
     "output_type": "execute_result"
    }
   ],
   "source": [
    "queue.deQueue()"
   ]
  },
  {
   "cell_type": "code",
   "execution_count": 16,
   "id": "396025cf",
   "metadata": {},
   "outputs": [
    {
     "name": "stdout",
     "output_type": "stream",
     "text": [
      "8\n",
      "9\n"
     ]
    }
   ],
   "source": [
    "queue.traverse()"
   ]
  },
  {
   "cell_type": "code",
   "execution_count": 17,
   "id": "3c4af70b",
   "metadata": {},
   "outputs": [
    {
     "data": {
      "text/plain": [
       "2"
      ]
     },
     "execution_count": 17,
     "metadata": {},
     "output_type": "execute_result"
    }
   ],
   "source": [
    "queue.length()"
   ]
  },
  {
   "cell_type": "code",
   "execution_count": 18,
   "id": "24d64b6d",
   "metadata": {},
   "outputs": [],
   "source": [
    "## queue implemented with linked list\n"
   ]
  },
  {
   "cell_type": "code",
   "execution_count": 42,
   "id": "29a8f232",
   "metadata": {},
   "outputs": [],
   "source": [
    "class Node:\n",
    "    def __init__(self,data,Next=None):\n",
    "        self.data = data\n",
    "        self.next = Next\n",
    "        \n",
    "    def getData(self):\n",
    "        return self.data\n",
    "    \n",
    "    def setData(self,data):\n",
    "        self.data = data\n",
    "        \n",
    "    def setNext(self,next):\n",
    "        self.next = next\n",
    "        \n",
    "    def getNext(self):\n",
    "        return self.next\n",
    "    \n",
    "class QueueLL:\n",
    "    def __init__(self):\n",
    "        self.head = None\n",
    "        self.tail = None\n",
    "        self.size = 0\n",
    "        \n",
    "    def isEmpty(self):\n",
    "        return self.head == None\n",
    "    \n",
    "    def enQueue(self,data):\n",
    "        node = Node(data)\n",
    "        if self.isEmpty():\n",
    "            self.head = node \n",
    "            self.tail = node\n",
    "            \n",
    "        else:\n",
    "            self.tail.setNext(node)\n",
    "            self.tail = self.tail.getNext()\n",
    "            \n",
    "        self.size +=1\n",
    "        \n",
    "    def deQueue(self):\n",
    "        if self.isEmpty():\n",
    "            print(\"Empty\")\n",
    "            return\n",
    "        \n",
    "        data = self.head.getData()\n",
    "        \n",
    "        if self.head == self.tail :\n",
    "            self.head = None\n",
    "            self.tail = None\n",
    "            \n",
    "        else:\n",
    "            self.head = self.head.getNext()\n",
    "            \n",
    "        self.size -= 1\n",
    "        return data\n",
    "    \n",
    "    def length(self):\n",
    "        return self.size\n",
    "    \n",
    "    def traverse(self):\n",
    "        temp = self.head\n",
    "        while temp:\n",
    "            \n",
    "            print(temp.getData(),end=\"->\")\n",
    "            temp = temp.getNext()\n",
    "            \n",
    "            \n",
    "    "
   ]
  },
  {
   "cell_type": "code",
   "execution_count": 43,
   "id": "236ab8f1",
   "metadata": {},
   "outputs": [],
   "source": [
    "q1 = QueueLL()"
   ]
  },
  {
   "cell_type": "code",
   "execution_count": 44,
   "id": "7b4a90c7",
   "metadata": {},
   "outputs": [],
   "source": [
    "q1.enQueue(6)"
   ]
  },
  {
   "cell_type": "code",
   "execution_count": 45,
   "id": "bb2e5438",
   "metadata": {},
   "outputs": [],
   "source": [
    "q1.enQueue(7)"
   ]
  },
  {
   "cell_type": "code",
   "execution_count": 46,
   "id": "dc1c9c8a",
   "metadata": {},
   "outputs": [],
   "source": [
    "q1.enQueue(7)"
   ]
  },
  {
   "cell_type": "code",
   "execution_count": 47,
   "id": "54b23eaa",
   "metadata": {},
   "outputs": [],
   "source": [
    "q1.enQueue(8)\n",
    "q1.enQueue(10)"
   ]
  },
  {
   "cell_type": "code",
   "execution_count": 48,
   "id": "36d87b19",
   "metadata": {},
   "outputs": [
    {
     "name": "stdout",
     "output_type": "stream",
     "text": [
      "6->7->7->8->10->"
     ]
    }
   ],
   "source": [
    "q1.traverse()"
   ]
  },
  {
   "cell_type": "code",
   "execution_count": 49,
   "id": "7f4694bd",
   "metadata": {},
   "outputs": [],
   "source": [
    "### implement stack using Queue\n",
    "## implement Queue using stack\n",
    "## recursion revision\n"
   ]
  },
  {
   "cell_type": "code",
   "execution_count": 50,
   "id": "7e8a0825",
   "metadata": {},
   "outputs": [],
   "source": [
    "## implementation stack using queue\n"
   ]
  },
  {
   "cell_type": "code",
   "execution_count": null,
   "id": "37b6b190",
   "metadata": {},
   "outputs": [],
   "source": []
  }
 ],
 "metadata": {
  "kernelspec": {
   "display_name": "Python 3 (ipykernel)",
   "language": "python",
   "name": "python3"
  },
  "language_info": {
   "codemirror_mode": {
    "name": "ipython",
    "version": 3
   },
   "file_extension": ".py",
   "mimetype": "text/x-python",
   "name": "python",
   "nbconvert_exporter": "python",
   "pygments_lexer": "ipython3",
   "version": "3.11.5"
  }
 },
 "nbformat": 4,
 "nbformat_minor": 5
}
