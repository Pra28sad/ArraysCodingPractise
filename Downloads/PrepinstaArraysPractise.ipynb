{
 "cells": [
  {
   "cell_type": "markdown",
   "id": "c89d8f63",
   "metadata": {},
   "source": [
    "# largest element in an array"
   ]
  },
  {
   "cell_type": "code",
   "execution_count": 5,
   "id": "218dfc8d",
   "metadata": {},
   "outputs": [
    {
     "data": {
      "text/plain": [
       "201"
      ]
     },
     "execution_count": 5,
     "metadata": {},
     "output_type": "execute_result"
    }
   ],
   "source": [
    "### largest element in an array\n",
    "\n",
    "\n",
    "## using loop\n",
    "def find_large_element(arr):\n",
    "    large = 0\n",
    "    c = 0\n",
    "    while c<=len(arr)-1:\n",
    "        if arr[c]>large:\n",
    "            large = arr[c]\n",
    "        c+=1\n",
    "    return large\n",
    "\n",
    "find_large_element([1,66,4,201,8,60,3])"
   ]
  },
  {
   "cell_type": "code",
   "execution_count": 11,
   "id": "d8f651f6",
   "metadata": {},
   "outputs": [
    {
     "name": "stdout",
     "output_type": "stream",
     "text": [
      "201\n"
     ]
    }
   ],
   "source": [
    "## using recursion\n",
    "\n",
    "def rec_large(arr,c,maximum):\n",
    "    if c>=len(arr)-1:\n",
    "        return maximum\n",
    "    if arr[c]>maximum:\n",
    "        return rec_large(arr,c+1,arr[c])\n",
    "        \n",
    "    else:\n",
    "        return rec_large(arr,c+1,maximum)\n",
    "        \n",
    "r = rec_large([1,66,4,201,8,60,3],0,0)\n",
    "print(r)"
   ]
  },
  {
   "cell_type": "markdown",
   "id": "b74e2d18",
   "metadata": {},
   "source": [
    "# Smallest element in an array\n"
   ]
  },
  {
   "cell_type": "code",
   "execution_count": 18,
   "id": "abb1e74d",
   "metadata": {},
   "outputs": [
    {
     "data": {
      "text/plain": [
       "4"
      ]
     },
     "execution_count": 18,
     "metadata": {},
     "output_type": "execute_result"
    }
   ],
   "source": [
    "## iterative approach\n",
    "## using loop\n",
    "def find_small_element(arr):\n",
    "    small = arr[0]\n",
    "    c = 0\n",
    "    while c<=len(arr)-1:\n",
    "        if arr[c]<small:\n",
    "            small = arr[c]\n",
    "        c+=1\n",
    "    return small\n",
    "\n",
    "find_small_element([11,66,4,201,8,60,13])\n"
   ]
  },
  {
   "cell_type": "code",
   "execution_count": 21,
   "id": "86e185f2",
   "metadata": {},
   "outputs": [
    {
     "name": "stdout",
     "output_type": "stream",
     "text": [
      "4\n"
     ]
    }
   ],
   "source": [
    "## using recursion\n",
    "\n",
    "def rec_small(arr,c,minimum):\n",
    "    if c>=len(arr)-1:\n",
    "        return minimum\n",
    "    if arr[c]<minimum:\n",
    "        return rec_small(arr,c+1,arr[c])\n",
    "        \n",
    "    else:\n",
    "        return rec_small(arr,c+1,minimum)\n",
    "        \n",
    "r = rec_small([11,66,4,201,8,60,13],0,11)\n",
    "print(r)"
   ]
  },
  {
   "cell_type": "markdown",
   "id": "e8f52a62",
   "metadata": {},
   "source": [
    "# retrieving both large and small numbers from array\n"
   ]
  },
  {
   "cell_type": "code",
   "execution_count": 24,
   "id": "0ba8f8d6",
   "metadata": {},
   "outputs": [
    {
     "data": {
      "text/plain": [
       "(1, 9)"
      ]
     },
     "execution_count": 24,
     "metadata": {},
     "output_type": "execute_result"
    }
   ],
   "source": [
    "## using iterative approach\n",
    "\n",
    "def large_small_array(arr):\n",
    "    small = arr[0]\n",
    "    large = 0\n",
    "    c = 0\n",
    "    while c<=len(arr)-1:\n",
    "        if arr[c]<small:\n",
    "            small = arr[c]\n",
    "        if arr[c]>large:\n",
    "            large=arr[c]\n",
    "        c+=1\n",
    "    return small,large\n",
    "\n",
    "large_small_array([2,6,5,1,9,3,2])"
   ]
  },
  {
   "cell_type": "markdown",
   "id": "6771ca78",
   "metadata": {},
   "source": [
    "# second Smallest"
   ]
  },
  {
   "cell_type": "code",
   "execution_count": 32,
   "id": "89b0fb33",
   "metadata": {},
   "outputs": [
    {
     "data": {
      "text/plain": [
       "3"
      ]
     },
     "execution_count": 32,
     "metadata": {},
     "output_type": "execute_result"
    }
   ],
   "source": [
    "def find_second_smallest(arr):\n",
    "    small = float('inf')\n",
    "    ssmall= float('inf')\n",
    "    \n",
    "    for i in arr:\n",
    "        if i<small:\n",
    "            ssmall=small\n",
    "            small=i\n",
    "            \n",
    "        elif small<i<ssmall:\n",
    "            ssmall = i\n",
    "            \n",
    "    return ssmall\n",
    "\n",
    "find_second_smallest([2,4,5,10,3,11])"
   ]
  },
  {
   "cell_type": "code",
   "execution_count": 37,
   "id": "f68c1456",
   "metadata": {},
   "outputs": [
    {
     "data": {
      "text/plain": [
       "1"
      ]
     },
     "execution_count": 37,
     "metadata": {},
     "output_type": "execute_result"
    }
   ],
   "source": [
    "## another approach\n",
    "\n",
    "def find(arr):\n",
    "    small=float('inf')\n",
    "    c=0\n",
    "    for i in range(len(arr)):\n",
    "        if arr[i]<small:\n",
    "            small = arr[i]\n",
    "            c = i\n",
    "    arr[c],arr[-1]=arr[-1],arr[c]\n",
    "    \n",
    "    ssmall = float('inf')\n",
    "    for j in range(len(arr)-1):\n",
    "        if arr[j]<ssmall:\n",
    "            ssmall = arr[j]\n",
    "#             c = i\n",
    "    \n",
    "    \n",
    "            \n",
    "    return ssmall\n",
    "\n",
    "find([9,8,1,3,4,2,0])"
   ]
  },
  {
   "cell_type": "markdown",
   "id": "136d0042",
   "metadata": {},
   "source": [
    "# caluculation of sum of an array"
   ]
  },
  {
   "cell_type": "code",
   "execution_count": 43,
   "id": "8e88ff66",
   "metadata": {},
   "outputs": [
    {
     "data": {
      "text/plain": [
       "18"
      ]
     },
     "execution_count": 43,
     "metadata": {},
     "output_type": "execute_result"
    }
   ],
   "source": [
    "def sum_array(arr):\n",
    "    s = 0\n",
    "    for i in range(len(arr)):\n",
    "        s += arr[i]\n",
    "        \n",
    "    return s\n",
    "\n",
    "sum_array([1,2,4,5,6])"
   ]
  },
  {
   "cell_type": "code",
   "execution_count": 45,
   "id": "eb01417f",
   "metadata": {},
   "outputs": [
    {
     "data": {
      "text/plain": [
       "21"
      ]
     },
     "execution_count": 45,
     "metadata": {},
     "output_type": "execute_result"
    }
   ],
   "source": [
    "### using recursion\n",
    "\n",
    "def rec_sum_array(arr,n):\n",
    "    if n>=len(arr):\n",
    "        return 0\n",
    "    else:\n",
    "        return arr[n]+rec_sum_array(arr,n+1)\n",
    "    \n",
    "rec_sum_array([1,2,3,4,5,6],0)"
   ]
  },
  {
   "cell_type": "markdown",
   "id": "17aa853a",
   "metadata": {},
   "source": [
    "# reversing of an array"
   ]
  },
  {
   "cell_type": "code",
   "execution_count": 46,
   "id": "aabb18d6",
   "metadata": {},
   "outputs": [
    {
     "data": {
      "text/plain": [
       "[5, 4, 3, 2, 1]"
      ]
     },
     "execution_count": 46,
     "metadata": {},
     "output_type": "execute_result"
    }
   ],
   "source": [
    "## iterative approach\n",
    "\n",
    "def rev_array(arr):\n",
    "    st = 0\n",
    "    lt = len(arr)-1\n",
    "    \n",
    "    for i in range(len(arr)//2):\n",
    "        arr[st],arr[lt] = arr[lt],arr[st]\n",
    "        st+=1\n",
    "        lt-=1\n",
    "        \n",
    "    return arr\n",
    "rev_array([1,2,3,4,5])"
   ]
  },
  {
   "cell_type": "code",
   "execution_count": 58,
   "id": "28ffa6a3",
   "metadata": {},
   "outputs": [
    {
     "data": {
      "text/plain": [
       "[5, 4, 3, 2, 1]"
      ]
     },
     "execution_count": 58,
     "metadata": {},
     "output_type": "execute_result"
    }
   ],
   "source": [
    "## recursive array\n",
    "def recursive_rev_array(arr,l,r):\n",
    "    if l>=r:\n",
    "        return \n",
    "    \n",
    "    arr[l],arr[r-1]=arr[r-1],arr[l]\n",
    "    \n",
    "    return recursive_rev_array(arr,l+1,r-1)\n",
    "arr = [1,2,3,4,5]\n",
    "recursive_rev_array(arr,0,5)\n",
    "arr\n",
    "    \n",
    "    "
   ]
  },
  {
   "cell_type": "markdown",
   "id": "5b61a5a4",
   "metadata": {},
   "source": [
    "# Sorting {bubble,selection,insertion} "
   ]
  },
  {
   "cell_type": "code",
   "execution_count": 64,
   "id": "a0457be1",
   "metadata": {},
   "outputs": [
    {
     "data": {
      "text/plain": [
       "[1, 2, 4, 5, 7, 16]"
      ]
     },
     "execution_count": 64,
     "metadata": {},
     "output_type": "execute_result"
    }
   ],
   "source": [
    "### bubble sort\n",
    "\n",
    "def bubble_sort(arr):\n",
    "    n=len(arr)\n",
    "    for i in range(n):\n",
    "        for j in range(0,n-i-1):\n",
    "            if arr[j]>arr[j+1] :\n",
    "                arr[j],arr[j+1] = arr[j+1],arr[j]\n",
    "                \n",
    "    return arr\n",
    "\n",
    "bubble_sort([1,16,5,2,4,7])"
   ]
  },
  {
   "cell_type": "code",
   "execution_count": 76,
   "id": "2e68e0c1",
   "metadata": {},
   "outputs": [
    {
     "data": {
      "text/plain": [
       "[2, 3, 4, 5]"
      ]
     },
     "execution_count": 76,
     "metadata": {},
     "output_type": "execute_result"
    }
   ],
   "source": [
    "## selection sort\n",
    "\n",
    "def selection_sort(arr):\n",
    "#     min_ind = 0\n",
    "    n = len(arr)\n",
    "    for i in range(n):\n",
    "        min_ind = i\n",
    "        for j in range(i+1,n):\n",
    "            if arr[j]<arr[min_ind]:\n",
    "                min_ind = j\n",
    "        arr[min_ind],arr[i] = arr[i],arr[min_ind]\n",
    "    return arr\n",
    "\n",
    "selection_sort([5,4,3,2])\n",
    "        "
   ]
  },
  {
   "cell_type": "code",
   "execution_count": 78,
   "id": "8da7a761",
   "metadata": {},
   "outputs": [
    {
     "data": {
      "text/plain": [
       "[2, 3, 4, 5]"
      ]
     },
     "execution_count": 78,
     "metadata": {},
     "output_type": "execute_result"
    }
   ],
   "source": [
    "## insertion sort\n",
    "\n",
    "def insertion(arr):\n",
    "    n=len(arr)\n",
    "    for i in range(n):\n",
    "        c_value = arr[i]\n",
    "        pos = i\n",
    "        \n",
    "        while pos>0 and arr[pos-1]>c_value:\n",
    "            arr[pos] = arr[pos-1]\n",
    "            pos -= 1\n",
    "            \n",
    "        arr[pos] = c_value\n",
    "    \n",
    "    return arr\n",
    "\n",
    "insertion([5,4,3,2])"
   ]
  },
  {
   "cell_type": "markdown",
   "id": "65d95842",
   "metadata": {},
   "source": [
    "# Python program to Sort first half in ascending order and second half in descending order in an array"
   ]
  },
  {
   "cell_type": "code",
   "execution_count": 96,
   "id": "4f3231a1",
   "metadata": {},
   "outputs": [
    {
     "data": {
      "text/plain": [
       "[1, 7, 9, 90, 89, 34]"
      ]
     },
     "execution_count": 96,
     "metadata": {},
     "output_type": "execute_result"
    }
   ],
   "source": [
    "def solve(arr):\n",
    "    def sort(arr):\n",
    "        n=len(arr)\n",
    "        for i in range(n):\n",
    "            curr = arr[i]\n",
    "            pos = i\n",
    "            while pos>0 and arr[pos-1]>curr:\n",
    "                arr[pos] = arr[pos-1]\n",
    "                pos-=1\n",
    "                \n",
    "            arr[pos] = curr\n",
    "            \n",
    "        return arr\n",
    "    \n",
    "    def rev_sort(arr):\n",
    "        n=0\n",
    "        left = 0\n",
    "        right = len(arr)-1\n",
    "        while left<right:\n",
    "            \n",
    "            arr[left],arr[right] = arr[right],arr[left]\n",
    "            \n",
    "            left+=1\n",
    "            right-=1\n",
    "            \n",
    "        return arr\n",
    "            \n",
    "    res = sort(arr)\n",
    "    first = res[:len(res)//2]\n",
    "    second = rev_sort(res[len(res)//2:])\n",
    "    \n",
    "    return first+second\n",
    "\n",
    "solve([1, 90, 34, 89, 7, 9])\n",
    "    \n",
    " "
   ]
  },
  {
   "cell_type": "code",
   "execution_count": 97,
   "id": "aaf7ef44",
   "metadata": {},
   "outputs": [
    {
     "data": {
      "text/plain": [
       "[1, 2, 3, 4, 9, 8, 7, 6, 5]"
      ]
     },
     "execution_count": 97,
     "metadata": {},
     "output_type": "execute_result"
    }
   ],
   "source": [
    "arr = [5, 4, 6, 2, 1, 3, 8, 9, 7]\n",
    "solve(arr)"
   ]
  },
  {
   "cell_type": "code",
   "execution_count": 99,
   "id": "68c66be7",
   "metadata": {},
   "outputs": [],
   "source": [
    "## sorting"
   ]
  },
  {
   "cell_type": "markdown",
   "id": "8160312c",
   "metadata": {},
   "source": [
    "# frequency count of each digit in an arrray\n"
   ]
  },
  {
   "cell_type": "code",
   "execution_count": 107,
   "id": "40d4f7e9",
   "metadata": {},
   "outputs": [
    {
     "data": {
      "text/plain": [
       "{2: 2, 5: 2, 1: 1, 4: 1}"
      ]
     },
     "execution_count": 107,
     "metadata": {},
     "output_type": "execute_result"
    }
   ],
   "source": [
    "def f_count(arr):\n",
    "    dictionary = {}\n",
    "    for i in range(len(arr)):\n",
    "        if arr[i] not in dictionary:\n",
    "            dictionary[arr[i]] = 1\n",
    "            \n",
    "        else:\n",
    "            dictionary[arr[i]]+=1\n",
    "            \n",
    "    return dictionary\n",
    "\n",
    "f_count([2,5,1,4,2,5])\n",
    "            "
   ]
  },
  {
   "cell_type": "markdown",
   "id": "6994e6d1",
   "metadata": {},
   "source": [
    "# Python Program for sorting elements of an Array by Frequency"
   ]
  },
  {
   "cell_type": "code",
   "execution_count": 109,
   "id": "dd38544b",
   "metadata": {},
   "outputs": [
    {
     "name": "stdout",
     "output_type": "stream",
     "text": [
      "1 2\n",
      "5 1\n",
      "6 3\n",
      "3 2\n",
      "2 1\n",
      "7 2\n",
      "8 2\n",
      "9 1\n"
     ]
    }
   ],
   "source": [
    "def sort_by_freq(arr):\n",
    "    res=f_count(arr)\n",
    "    for key,value in res.items():\n",
    "        print(key,value)\n",
    "    \n",
    "sort_by_freq([1,5,6,3,3,1,2,6,7,8,9,7,6,8])"
   ]
  },
  {
   "cell_type": "code",
   "execution_count": 121,
   "id": "8167e944",
   "metadata": {},
   "outputs": [
    {
     "name": "stdout",
     "output_type": "stream",
     "text": [
      "[(-2, 3), (-2, 1), (-3, 2), (-2, 3), (-2, 1), (-3, 2), (-3, 2)]\n",
      "[2, 2, 2, 1, 1, 3, 3]\n"
     ]
    }
   ],
   "source": [
    "def sort_by_freq(arr):\n",
    "    # Step 1: Count the frequency of each element\n",
    "    freq_dict = f_count(arr)\n",
    "    \n",
    "    # Step 2: Create a list of tuples and sort\n",
    "#     freq_tuples = [(-freq_dict[x], x) for x in arr]\n",
    "    freq_tuples=[]\n",
    "    for i in arr:\n",
    "        res=(-freq_dict[i],i)\n",
    "        freq_tuples.append(res)\n",
    "    print(freq_tuples)\n",
    "\n",
    "    freq_tuples.sort()\n",
    "    \n",
    "    # Step 3: Extract the sorted elements\n",
    "    sorted_arr = [x[1] for x in freq_tuples]\n",
    "\n",
    "    return sorted_arr\n",
    "\n",
    "# Example usage\n",
    "sorted_array = sort_by_freq([3,1,2,3,1,2,2])\n",
    "print(sorted_array)\n"
   ]
  },
  {
   "cell_type": "markdown",
   "id": "27e7b976",
   "metadata": {},
   "source": [
    "# Find the Longest Palindrome in an Array using Python"
   ]
  },
  {
   "cell_type": "code",
   "execution_count": 123,
   "id": "19833c15",
   "metadata": {},
   "outputs": [
    {
     "data": {
      "text/plain": [
       "5545455"
      ]
     },
     "execution_count": 123,
     "metadata": {},
     "output_type": "execute_result"
    }
   ],
   "source": [
    "## longest palindrome in array\n",
    "\n",
    "def palindrome(num):   ## without using a string conversion\n",
    "    check=num\n",
    "    reversed_num = 0\n",
    "    sign = -1 if num<0 else 1\n",
    "    num = abs(num)\n",
    "    while num!=0:\n",
    "        digit = num%10\n",
    "        reversed_num = reversed_num*10+digit\n",
    "        num = num//10\n",
    "    \n",
    "    return True if reversed_num==check else False\n",
    "\n",
    "def find_palindromes(arr):\n",
    "    return [i for i in arr if palindrome(i)]\n",
    "\n",
    "            \n",
    "    \n",
    "def longest_palindrome_array(arr):\n",
    "    maximum=0\n",
    "    arr = find_palindromes(arr)\n",
    "    for i in arr:\n",
    "        if i>maximum:\n",
    "            maximum = i\n",
    "            \n",
    "    return maximum\n",
    "\n",
    "longest_palindrome_array([1, 232, 5545455, 909090, 161])"
   ]
  },
  {
   "cell_type": "code",
   "execution_count": 124,
   "id": "2529bd7d",
   "metadata": {},
   "outputs": [
    {
     "name": "stdout",
     "output_type": "stream",
     "text": [
      "5545455\n"
     ]
    }
   ],
   "source": [
    "### by using classes\n",
    "class PalindromeProcessor:\n",
    "    def __init__(self, arr):\n",
    "        self.arr = arr\n",
    "\n",
    "    def is_palindrome(self, num):\n",
    "        # Check if a number is a palindrome without string conversion\n",
    "        check = num\n",
    "        reversed_num = 0\n",
    "        num = abs(num)\n",
    "        \n",
    "        while num != 0:\n",
    "            digit = num % 10\n",
    "            reversed_num = reversed_num * 10 + digit\n",
    "            num = num // 10\n",
    "        \n",
    "        return reversed_num == check\n",
    "\n",
    "    def find_palindromes(self):\n",
    "        # Return a list of palindromic numbers from the array\n",
    "        return [i for i in self.arr if self.is_palindrome(i)]\n",
    "\n",
    "    def longest_palindrome(self):\n",
    "        # Find and return the longest palindromic number from the array\n",
    "        palindromes = self.find_palindromes()\n",
    "        if not palindromes:\n",
    "            return None  # Return None if no palindromic numbers are found\n",
    "        \n",
    "        maximum = palindromes[0]\n",
    "        for num in palindromes:\n",
    "            if num > maximum:\n",
    "                maximum = num\n",
    "        \n",
    "        return maximum\n",
    "\n",
    "# Example usage\n",
    "processor = PalindromeProcessor([1, 232, 5545455, 909090, 161])\n",
    "print(processor.longest_palindrome())  # Output: 5545455\n"
   ]
  },
  {
   "cell_type": "markdown",
   "id": "e402c2a5",
   "metadata": {},
   "source": [
    "# Python Program for Counting Distinct Elements in an Array"
   ]
  },
  {
   "cell_type": "code",
   "execution_count": 132,
   "id": "cf3074ef",
   "metadata": {},
   "outputs": [
    {
     "name": "stdout",
     "output_type": "stream",
     "text": [
      "5\n"
     ]
    }
   ],
   "source": [
    "def f_count(arr):\n",
    "    dictionary = {}\n",
    "    for i in range(len(arr)):\n",
    "        if arr[i] not in dictionary:\n",
    "            dictionary[arr[i]] = 1\n",
    "            \n",
    "        else:\n",
    "            dictionary[arr[i]]+=1\n",
    "            \n",
    "    return dictionary\n",
    "\n",
    "def count_distinct_elements(arr):\n",
    "    res = f_count(arr)\n",
    "    lst = []\n",
    "    for key,value in res.items():\n",
    "        if value>=1:\n",
    "            lst.append(key)\n",
    "            \n",
    "    return lst\n",
    "\n",
    "result=count_distinct_elements([10, 20, 40, 30, 50, 20, 10, 20])\n",
    "print(len(result))"
   ]
  },
  {
   "cell_type": "markdown",
   "id": "695e8b75",
   "metadata": {},
   "source": [
    "# Finding Repeating elements in an Array in Python"
   ]
  },
  {
   "cell_type": "code",
   "execution_count": 3,
   "id": "e27d2d29",
   "metadata": {},
   "outputs": [
    {
     "name": "stdout",
     "output_type": "stream",
     "text": [
      "20 10 "
     ]
    }
   ],
   "source": [
    "def find_repeating_elements(arr):\n",
    "    temp_dict = {}\n",
    "    lst = []\n",
    "    for i in arr:\n",
    "        if i not in temp_dict:\n",
    "            temp_dict[i] = 1\n",
    "        else:\n",
    "            if i not in lst:\n",
    "                lst.append(i)\n",
    "                print(i,end=\" \")\n",
    "                \n",
    "find_repeating_elements( [10, 20, 40, 30, 50, 20, 10, 20])"
   ]
  },
  {
   "cell_type": "code",
   "execution_count": 7,
   "id": "8e8a5960",
   "metadata": {},
   "outputs": [
    {
     "name": "stdout",
     "output_type": "stream",
     "text": [
      "1\n",
      "2\n",
      "5\n",
      "6\n"
     ]
    }
   ],
   "source": [
    "d = {\"f\":1,\"s\":2,\"t\":5,\"u\":6}\n",
    "for i in d:\n",
    "    print(d[i])"
   ]
  },
  {
   "cell_type": "markdown",
   "id": "d89ba1b6",
   "metadata": {},
   "source": [
    "# Find non-repeating elements in an array Python"
   ]
  },
  {
   "cell_type": "code",
   "execution_count": 15,
   "id": "fbaba451",
   "metadata": {},
   "outputs": [
    {
     "name": "stdout",
     "output_type": "stream",
     "text": [
      "[40, 30, 50]\n"
     ]
    }
   ],
   "source": [
    "def find_non_repeated_elements(arr):\n",
    "    temp_dict = {}\n",
    "    lst = []\n",
    "    for i in arr:\n",
    "        if i not in temp_dict:\n",
    "            temp_dict[i] = 1\n",
    "        else:\n",
    "            temp_dict[i]+=1\n",
    "    print(f\"{[i for i in temp_dict if temp_dict[i]==1]}\")\n",
    "\n",
    "                \n",
    "find_non_repeated_elements( [10, 20, 40, 30, 50, 20, 10, 20])\n"
   ]
  },
  {
   "cell_type": "code",
   "execution_count": 23,
   "id": "071cb44b",
   "metadata": {},
   "outputs": [
    {
     "name": "stdout",
     "output_type": "stream",
     "text": [
      "3\n",
      "1 2\n"
     ]
    },
    {
     "data": {
      "text/plain": [
       "<map at 0x12b1fc54fa0>"
      ]
     },
     "execution_count": 23,
     "metadata": {},
     "output_type": "execute_result"
    }
   ],
   "source": [
    "n = int(input())\n",
    "lst_of_n_inputs = map(int,str(input()).split())\n",
    "lst_of_n_inputs"
   ]
  },
  {
   "cell_type": "code",
   "execution_count": 29,
   "id": "c46d417d",
   "metadata": {},
   "outputs": [
    {
     "name": "stdout",
     "output_type": "stream",
     "text": [
      "4\n",
      "5\n"
     ]
    }
   ],
   "source": [
    "n = int(input())  # Reads an integer from input, which indicates the number of elements.\n",
    "lst_of_n_noOf_inputs = [int(x) for x in input().split()]  # Reads a single line of input, splits it into strings, and converts each to an integer.\n",
    "\n",
    "# This assumes you're reading one line of input with `n` integers.\n"
   ]
  },
  {
   "cell_type": "markdown",
   "id": "4edeed76",
   "metadata": {},
   "source": [
    "lst_of_n_noOf_inputs"
   ]
  },
  {
   "cell_type": "code",
   "execution_count": 28,
   "id": "51c204c4",
   "metadata": {},
   "outputs": [
    {
     "name": "stdout",
     "output_type": "stream",
     "text": [
      "5\n",
      "3\n",
      "4\n",
      "2\n",
      "4\n",
      "2\n"
     ]
    },
    {
     "data": {
      "text/plain": [
       "[3, 4, 2, 4, 2]"
      ]
     },
     "execution_count": 28,
     "metadata": {},
     "output_type": "execute_result"
    }
   ],
   "source": [
    "n = int(input())  # Reads an integer from input, which indicates the number of lines to read.\n",
    "lst_of_n_noOf_inputs = [int(input()) for _ in range(n)]  # Reads `n` lines of input, converting each line to an integer.\n",
    "lst_of_n_noOf_inputs"
   ]
  },
  {
   "cell_type": "markdown",
   "id": "42240bb2",
   "metadata": {},
   "source": [
    "# remove duplicates"
   ]
  },
  {
   "cell_type": "code",
   "execution_count": 39,
   "id": "adaa77e7",
   "metadata": {},
   "outputs": [
    {
     "name": "stdout",
     "output_type": "stream",
     "text": [
      "1\n",
      "3\n",
      "4\n",
      "5\n",
      "6\n"
     ]
    }
   ],
   "source": [
    "#33 without using an extra space\n",
    "\n",
    "def remove_duplicates(arr):\n",
    "    ind = 0 \n",
    "    for i in range(len(arr)-1):\n",
    "        if arr[i] != arr[i+1]:\n",
    "            ind =i\n",
    "            arr[ind]=arr[i]\n",
    "    arr[ind]=arr[len(arr)-1]\n",
    "    ind+=1\n",
    "    return ind\n",
    "arr= [1,1,3,4,5,5,6,6]\n",
    "res = remove_duplicates(arr)\n",
    "for i in range(res):\n",
    "    print(arr[i])"
   ]
  },
  {
   "cell_type": "code",
   "execution_count": 36,
   "id": "4affe4f0",
   "metadata": {},
   "outputs": [
    {
     "name": "stdout",
     "output_type": "stream",
     "text": [
      "1 3 4 5 6 "
     ]
    }
   ],
   "source": [
    "def remove_duplicates(arr):\n",
    "    if not arr:  # Handle empty array case\n",
    "        return 0\n",
    "    \n",
    "    ind = 0  # Start from the first index\n",
    "    \n",
    "    for i in range(1, len(arr)):\n",
    "        if arr[ind] != arr[i]:\n",
    "            ind += 1\n",
    "            arr[ind] = arr[i]\n",
    "    \n",
    "    return ind + 1  # Return the new length of the array\n",
    "\n",
    "arr = [1, 1, 3, 4, 5, 5, 6, 6]\n",
    "res = remove_duplicates(arr)\n",
    "\n",
    "# Print the unique elements\n",
    "for i in range(res):\n",
    "    print(arr[i], end=' ')\n"
   ]
  },
  {
   "cell_type": "markdown",
   "id": "06977f16",
   "metadata": {},
   "source": [
    "# Finding symmetric pairs in an array in Python"
   ]
  },
  {
   "cell_type": "code",
   "execution_count": 53,
   "id": "0b5376c4",
   "metadata": {},
   "outputs": [
    {
     "name": "stdout",
     "output_type": "stream",
     "text": [
      "{1: 2, 3: 5, 4: 7}\n",
      "(2, 1)\n",
      "(5, 3)\n",
      "(7, 4)\n"
     ]
    }
   ],
   "source": [
    "def find_symmetric_pairs(arr):\n",
    "    # Dictionary to store pairs\n",
    "    pair_dict = {}\n",
    "    \n",
    "    # List to store symmetric pairs\n",
    "    symmetric_pairs = []\n",
    "\n",
    "    # Iterate over the array of pairs\n",
    "    for a, b in arr:\n",
    "        # Check if the reverse pair (b, a) is already in the dictionary\n",
    "        if b in pair_dict and pair_dict[b] == a:\n",
    "            symmetric_pairs.append((a, b))\n",
    "        else:\n",
    "            pair_dict[a] = b\n",
    "    print(pair_dict)\n",
    "    return symmetric_pairs\n",
    "\n",
    "# Example usage\n",
    "arr = [(1, 2), (3, 5), (4, 7), (2, 1), (5, 3), (7, 4)]\n",
    "symmetric_pairs = find_symmetric_pairs(arr)\n",
    "\n",
    "# Print symmetric pairs\n",
    "for pair in symmetric_pairs:\n",
    "    print(pair)\n"
   ]
  },
  {
   "cell_type": "markdown",
   "id": "013f2737",
   "metadata": {},
   "source": [
    "# Find maximum product sub-array in a given array"
   ]
  },
  {
   "cell_type": "code",
   "execution_count": 58,
   "id": "c0f02708",
   "metadata": {},
   "outputs": [
    {
     "name": "stdout",
     "output_type": "stream",
     "text": [
      "Maximum sub-array product is 112\n"
     ]
    }
   ],
   "source": [
    "def maximum(n1,n2):\n",
    "    return n1 if n1>n2 else n2\n",
    "\n",
    "def find_maximum_product(arr):\n",
    "    res = arr[0]\n",
    "    first_half = 1\n",
    "    last_half = 1\n",
    "    \n",
    "    for i in range(len(arr)):\n",
    "        first_half = 1 if first_half==0 else first_half\n",
    "        last_half = 1 if last_half==0 else last_half\n",
    "        \n",
    "        first_half *= arr[i]\n",
    "        last_half *= arr[len(arr)-i-1]\n",
    "        \n",
    "        res = maximum(first_half,last_half)\n",
    "    return res\n",
    "\n",
    "arr = [ 1, -2, -3, 0, 7, -8, -2 ]\n",
    "print(\"Maximum sub-array product is\" , find_maximum_product(arr))"
   ]
  },
  {
   "cell_type": "markdown",
   "id": "1fc99975",
   "metadata": {},
   "source": [
    "# Determine can all numbers of an array be made equal in Python"
   ]
  },
  {
   "cell_type": "code",
   "execution_count": 60,
   "id": "42480457",
   "metadata": {},
   "outputs": [
    {
     "name": "stdout",
     "output_type": "stream",
     "text": [
      "Yes, all the elements of an array can be made equal\n"
     ]
    }
   ],
   "source": [
    "#Function to check whether an array is equal or not\n",
    "def check(array,length):\n",
    "     for i in range(0, length):\n",
    "     \n",
    "          # Divide number by 2\n",
    "            while array[i] % 2 == 0:\n",
    "                array[i] //= 2\n",
    "\n",
    "          # Divide number by 3\n",
    "            while array[i] % 3 == 0:\n",
    "                array[i] //= 3\n",
    "\n",
    "     if array[i] != array[0]:\n",
    "         return False\n",
    "\n",
    "     return True\n",
    "\n",
    "#input array from user\n",
    "array = [50, 100, 75]\n",
    "\n",
    "#determine length of array and assign to length variable\n",
    "length=len(array)\n",
    "\n",
    "if check(array, length):\n",
    "     print(\"Yes, all the elements of an array can be made equal\")\n",
    "else:\n",
    "     print(\"No, all the elements of an array cannot be made equal\")"
   ]
  },
  {
   "cell_type": "markdown",
   "id": "faa3258e",
   "metadata": {},
   "source": [
    "# Python Program to Replace each element by its Rank in the given Array"
   ]
  },
  {
   "cell_type": "code",
   "execution_count": 61,
   "id": "06176a93",
   "metadata": {},
   "outputs": [
    {
     "name": "stdout",
     "output_type": "stream",
     "text": [
      "[5, 1, 3, 2, 4]\n"
     ]
    }
   ],
   "source": [
    "def changeArr(input1):\n",
    " \n",
    "    newArray = input1.copy()\n",
    "    newArray.sort()\n",
    "     \n",
    "    for i in range(len(input1)):\n",
    "        for j in range(len(newArray)):\n",
    "            if input1[i]==newArray[j]:\n",
    "                input1[i] = j+1;\n",
    "                break;\n",
    "    \n",
    "# Driver Code\n",
    "arr = [100, 2, 70, 12 , 90]\n",
    "changeArr(arr)\n",
    "# Print the array elements\n",
    "print(arr)"
   ]
  },
  {
   "cell_type": "markdown",
   "id": "d6328a51",
   "metadata": {},
   "source": [
    "# Python program to find Equilibrium index of an array"
   ]
  },
  {
   "cell_type": "code",
   "execution_count": 62,
   "id": "91067ccb",
   "metadata": {},
   "outputs": [
    {
     "name": "stdout",
     "output_type": "stream",
     "text": [
      "Equilibrium index is  3\n"
     ]
    }
   ],
   "source": [
    "def equilibrium(arr):\n",
    "    leftsum = 0\n",
    "    rightsum = 0\n",
    "    n = len(arr)\n",
    " \n",
    "    for i in range(n):\n",
    "        leftsum = 0\n",
    "        rightsum = 0\n",
    "     \n",
    "        for j in range(i):\n",
    "            leftsum += arr[j]\n",
    "         \n",
    "        for j in range(i + 1, n):\n",
    "            rightsum += arr[j]\n",
    "         \n",
    "        if leftsum == rightsum:\n",
    "            return i\n",
    "     \n",
    "    return -1\n",
    "     \n",
    "# Driver code\n",
    "arr = [-4, 1, 5, 2, -4, 4, 2]\n",
    "print ('Equilibrium index is ',equilibrium(arr))"
   ]
  },
  {
   "cell_type": "code",
   "execution_count": 63,
   "id": "91a74eda",
   "metadata": {},
   "outputs": [
    {
     "name": "stdout",
     "output_type": "stream",
     "text": [
      "EQUILIBRIUM INDEX OF AN ARRAY: \n",
      "2\n"
     ]
    }
   ],
   "source": [
    "a=[4, -2, 0, 6, -4]\n",
    "ans=-1\n",
    "for i in range(1,len(a)):\n",
    "    if sum(a[:i])==sum(a[i+1:]):\n",
    "        ans=i\n",
    "        break    \n",
    "print(\"EQUILIBRIUM INDEX OF AN ARRAY: \")\n",
    "print(ans)"
   ]
  },
  {
   "cell_type": "markdown",
   "id": "40831a7a",
   "metadata": {},
   "source": [
    "# Python program for rotation of elements of array- left and right"
   ]
  },
  {
   "cell_type": "code",
   "execution_count": 74,
   "id": "2097660b",
   "metadata": {},
   "outputs": [
    {
     "data": {
      "text/plain": [
       "[30, 40, 50, 10, 20]"
      ]
     },
     "execution_count": 74,
     "metadata": {},
     "output_type": "execute_result"
    }
   ],
   "source": [
    "## rotate left\n",
    "def rotate(arr,d,n):\n",
    "    for i in range(d):\n",
    "        rotateOne(arr,n)\n",
    "    \n",
    "def rotateOne(arr,n):\n",
    "    temp = arr[0]\n",
    "    for i in range(n-1):\n",
    "        arr[i] = arr[i+1]\n",
    "    arr[n-1] = temp\n",
    "\n",
    "arr = [10,20,30,40,50]\n",
    "rotate(arr,2,len(arr))\n",
    "arr"
   ]
  },
  {
   "cell_type": "code",
   "execution_count": 75,
   "id": "5358862f",
   "metadata": {},
   "outputs": [
    {
     "data": {
      "text/plain": [
       "[40, 50, 10, 20, 30]"
      ]
     },
     "execution_count": 75,
     "metadata": {},
     "output_type": "execute_result"
    }
   ],
   "source": [
    "## rotate right\n",
    "\n",
    "def rotate_right(arr,d,n):\n",
    "    for i in range(d):\n",
    "        rotateRightOne(arr,n)\n",
    "        \n",
    "def rotateRightOne(arr,n):\n",
    "    temp = arr[n-1]\n",
    "    for i in range(n-1,0,-1):\n",
    "        arr[i] = arr[i-1]\n",
    "    arr[0] = temp\n",
    "    \n",
    "arr = [10,20,30,40,50]\n",
    "rotate_right(arr,2,len(arr))\n",
    "arr"
   ]
  },
  {
   "cell_type": "markdown",
   "id": "c2137a9e",
   "metadata": {},
   "source": [
    "# move negetive elements into one side"
   ]
  },
  {
   "cell_type": "code",
   "execution_count": 6,
   "id": "5813da69",
   "metadata": {},
   "outputs": [
    {
     "data": {
      "text/plain": [
       "[-6, -5, -1, -3, 4, 3, 1, 3, 7]"
      ]
     },
     "execution_count": 6,
     "metadata": {},
     "output_type": "execute_result"
    }
   ],
   "source": [
    "def move_one_side(arr):\n",
    "    left = 0\n",
    "    right = len(arr)-1\n",
    "    \n",
    "    while left<=right:\n",
    "        if arr[left] < 0:\n",
    "            left += 1\n",
    "        \n",
    "        elif arr[right]>0:\n",
    "            right -= 1\n",
    "        else:    \n",
    "            arr[left],arr[right] = arr[right],arr[left]\n",
    "            left += 1\n",
    "            right -= 1\n",
    "        \n",
    "    return arr\n",
    "\n",
    "move_one_side([1, 3, -1, 4, -3, -5, -6, 3, 7])"
   ]
  },
  {
   "cell_type": "markdown",
   "id": "5c9a7952",
   "metadata": {},
   "source": [
    "# finding union and intersection of two arrays"
   ]
  },
  {
   "cell_type": "code",
   "execution_count": 29,
   "id": "6cc953d4",
   "metadata": {},
   "outputs": [
    {
     "name": "stdout",
     "output_type": "stream",
     "text": [
      "Union of two arrays : [1, 2, 3, 4, 5, 6, 7, 9, 10, 16]\n",
      "Intersection of two arrays:[3, 5, 6]\n"
     ]
    }
   ],
   "source": [
    "def find_union_of_TwoArrays(arr1,arr2):\n",
    "    i = 0\n",
    "    j = 0\n",
    "    lst = []\n",
    "    \n",
    "    while i<=len(arr1)-1 and j<= len(arr2)-1:\n",
    "        if arr1[i] == arr2[j]:\n",
    "            lst.append(arr1[i])\n",
    "            i+=1\n",
    "            j+=1\n",
    "            \n",
    "        elif arr1[i] < arr2[j] :\n",
    "            lst.append(arr1[i])\n",
    "            i+=1\n",
    "        else:\n",
    "            lst.append(arr2[j])\n",
    "            j+=1\n",
    "            \n",
    "    for i in range(len(arr1)):\n",
    "        if arr1[i] not in lst:\n",
    "            lst.append(arr1[i])\n",
    "            \n",
    "    for i in range(len(arr2)):\n",
    "        if arr2[i] not in lst:\n",
    "            lst.append(arr2[i])\n",
    "            \n",
    "    print(f\"Union of two arrays : {lst}\")\n",
    "    \n",
    "def intersection(arr1,arr2):\n",
    "    i , j = 0,0\n",
    "    lst = []\n",
    "    while i<len(arr1)and j<len(arr2):\n",
    "        if arr1[i] == arr2[j]:\n",
    "            lst.append(arr1[i])\n",
    "            i+=1 \n",
    "            j+=1\n",
    "        elif arr1[i]<arr2[j]:\n",
    "            i+=1\n",
    "            \n",
    "        else:\n",
    "        \n",
    "            j+=1\n",
    "    print(f\"Intersection of two arrays:{lst}\")\n",
    "            \n",
    " \n",
    "find_union_of_TwoArrays(arr1 = [1, 3, 4, 5, 7],\n",
    "arr2 = [2, 3, 5, 6,9,10,16,5])\n",
    "intersection(arr1 = [1, 3, 4, 5,6, 7],\n",
    "arr2 = [2, 3, 5, 6,9,10,16])\n",
    "            "
   ]
  },
  {
   "cell_type": "code",
   "execution_count": null,
   "id": "24dc6aec",
   "metadata": {},
   "outputs": [],
   "source": []
  }
 ],
 "metadata": {
  "kernelspec": {
   "display_name": "Python 3 (ipykernel)",
   "language": "python",
   "name": "python3"
  },
  "language_info": {
   "codemirror_mode": {
    "name": "ipython",
    "version": 3
   },
   "file_extension": ".py",
   "mimetype": "text/x-python",
   "name": "python",
   "nbconvert_exporter": "python",
   "pygments_lexer": "ipython3",
   "version": "3.11.5"
  }
 },
 "nbformat": 4,
 "nbformat_minor": 5
}
