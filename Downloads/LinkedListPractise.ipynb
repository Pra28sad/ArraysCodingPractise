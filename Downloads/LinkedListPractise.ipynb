{
 "cells": [
  {
   "cell_type": "code",
   "execution_count": 19,
   "id": "f4185b59",
   "metadata": {},
   "outputs": [],
   "source": [
    "## implementation of linked list\n"
   ]
  },
  {
   "cell_type": "code",
   "execution_count": 5,
   "id": "ee9b9d12",
   "metadata": {},
   "outputs": [],
   "source": [
    "class Node:\n",
    "    def __init__(self,data=None,Next=None):\n",
    "        self.data=data\n",
    "        self.next=Next\n",
    "        \n",
    "    def setData(self,data):\n",
    "        self.data = data\n",
    "        \n",
    "    def getData(self):\n",
    "        return self.data\n",
    "    \n",
    "    def setNext(self,Next):\n",
    "        self.next = Next\n",
    "        \n",
    "    def getNext(self):\n",
    "        return self.next\n",
    "    \n",
    "## creating nodes\n",
    "head = Node(1)\n",
    "node2=Node(2)\n",
    "node3 = Node(3)\n",
    "node4=Node(4)\n",
    "node5=Node(5)\n",
    "\n",
    "## set up of address\n",
    "head.setNext(node2)\n",
    "node2.setNext(node3)\n",
    "node3.setNext(node4)\n",
    "node4.setNext(node5)\n"
   ]
  },
  {
   "cell_type": "code",
   "execution_count": 6,
   "id": "cc76f4b8",
   "metadata": {},
   "outputs": [
    {
     "name": "stdout",
     "output_type": "stream",
     "text": [
      "1--> 2--> 3--> 4--> 5--> None\n"
     ]
    }
   ],
   "source": [
    "## to traverse of a linked list\n",
    "\n",
    "def traverse(head):\n",
    "    temp=head\n",
    "    while temp!=None:\n",
    "        print(f\"{temp.getData()}-->\",end=\" \")\n",
    "        temp=temp.getNext()\n",
    "    if temp==None:\n",
    "        print(f\"None\")\n",
    "        \n",
    "traverse(head)"
   ]
  },
  {
   "cell_type": "code",
   "execution_count": 7,
   "id": "c84886ef",
   "metadata": {},
   "outputs": [
    {
     "name": "stdout",
     "output_type": "stream",
     "text": [
      "1--> 2--> 3--> 4--> 5-->None\n"
     ]
    }
   ],
   "source": [
    "## traversing by using recursion\n",
    "def recTraverse(data):\n",
    "    if data.getNext() == None:\n",
    "        print(f\"{data.getData()}-->None\")\n",
    "        return \n",
    "    \n",
    "    else:\n",
    "        print(f\"{data.getData()}-->\",end=\" \")\n",
    "        recTraverse(data.getNext())\n",
    "        \n",
    "recTraverse(head)"
   ]
  },
  {
   "cell_type": "code",
   "execution_count": 8,
   "id": "537e8d70",
   "metadata": {},
   "outputs": [
    {
     "name": "stdout",
     "output_type": "stream",
     "text": [
      "Length of a linked list is : 5\n"
     ]
    }
   ],
   "source": [
    "## finding a length of a linkeddlist\n",
    "\n",
    "def find_length(head):\n",
    "    temp = head\n",
    "    c = 0\n",
    "    while temp != None:\n",
    "        c+=1\n",
    "        temp=temp.getNext()\n",
    "        \n",
    "    return c\n",
    "\n",
    "print(f\"Length of a linked list is : {find_length(head)}\")\n",
    "    \n"
   ]
  },
  {
   "cell_type": "code",
   "execution_count": 9,
   "id": "e652325f",
   "metadata": {},
   "outputs": [
    {
     "name": "stdout",
     "output_type": "stream",
     "text": [
      "Length of a linked list by using recursion : 5\n"
     ]
    }
   ],
   "source": [
    "## finding length using recursion\n",
    "\n",
    "def rec_find_length(head,c):\n",
    "    if head==None:\n",
    "        return c\n",
    "    return rec_find_length(head.getNext(),c+1)\n",
    "\n",
    "print(f\"Length of a linked list by using recursion : {rec_find_length(head,0)}\")\n",
    "    "
   ]
  },
  {
   "cell_type": "code",
   "execution_count": 10,
   "id": "a3e84aba",
   "metadata": {},
   "outputs": [],
   "source": [
    "## insertion at begininng and end and location\n",
    "\n",
    "def insert(head,data,k):\n",
    "    if k>find_length(head) and k<0:\n",
    "        print(\"enter valid position\")\n",
    "        \n",
    "    newData = Node(data)\n",
    "    \n",
    "    if k==0:\n",
    "        newData.setNext(head)\n",
    "        head=newData\n",
    "        \n",
    "    else:\n",
    "        prev = head\n",
    "        i=0\n",
    "        while i<k-1:\n",
    "            prev = prev.getNext()\n",
    "            i+=1\n",
    "            \n",
    "        newData.setNext(prev.getNext())\n",
    "        prev.setNext(newData)\n",
    "        \n",
    "    return head"
   ]
  },
  {
   "cell_type": "code",
   "execution_count": 11,
   "id": "3d2fadb7",
   "metadata": {},
   "outputs": [],
   "source": [
    "res= insert(head,7,3)"
   ]
  },
  {
   "cell_type": "code",
   "execution_count": 12,
   "id": "bec6fe7f",
   "metadata": {},
   "outputs": [
    {
     "name": "stdout",
     "output_type": "stream",
     "text": [
      "1--> 2--> 3--> 7--> 4--> 5--> None\n"
     ]
    }
   ],
   "source": [
    "traverse(res)"
   ]
  },
  {
   "cell_type": "code",
   "execution_count": 13,
   "id": "0e6927f5",
   "metadata": {},
   "outputs": [
    {
     "name": "stdout",
     "output_type": "stream",
     "text": [
      "3\n",
      "1--> 2--> 3--> 4--> 5--> None\n"
     ]
    }
   ],
   "source": [
    "## deleting a node from linked list\n",
    "\n",
    "def deleteNode(head,k):\n",
    "    if k>find_length(head) or k<0:\n",
    "        print(\"Enter valid position\")\n",
    "        return \n",
    "#     Head=head \n",
    "    if k==0:\n",
    "        head=head.getNext()\n",
    "        \n",
    "    else:\n",
    "        prev=head\n",
    "        c=0\n",
    "        while c<k-1:\n",
    "            c+=1\n",
    "            prev = prev.getNext()\n",
    "        print(prev.getData()) \n",
    "        prev.setNext(prev.getNext().getNext())\n",
    "    return head\n",
    "    \n",
    "res=deleteNode(head,3)\n",
    "traverse(res)\n",
    "            "
   ]
  },
  {
   "cell_type": "code",
   "execution_count": 14,
   "id": "ed8d6ceb",
   "metadata": {},
   "outputs": [
    {
     "name": "stdout",
     "output_type": "stream",
     "text": [
      "3\n"
     ]
    }
   ],
   "source": [
    "## finding the middle node of linked list\n",
    "\n",
    "def find_middle(head):\n",
    "    if find_length(head)==0:\n",
    "        print(\"doesnt have elements\")\n",
    "    else:\n",
    "        temp = head\n",
    "        for i in range(find_length(temp)//2):\n",
    "            temp=temp.getNext()\n",
    "        print(temp.getData())\n",
    "find_middle(head)"
   ]
  },
  {
   "cell_type": "code",
   "execution_count": 15,
   "id": "85a12cdf",
   "metadata": {},
   "outputs": [
    {
     "data": {
      "text/plain": [
       "3"
      ]
     },
     "execution_count": 15,
     "metadata": {},
     "output_type": "execute_result"
    }
   ],
   "source": [
    "## finding middle by fast and slow approach\n",
    "\n",
    "def fast_slow_mid(head):\n",
    "    slow=head\n",
    "    fast = head\n",
    "    \n",
    "    while fast!=None and fast.getNext()!=None:\n",
    "        slow=slow.getNext()\n",
    "        fast=fast.getNext().getNext()\n",
    "        \n",
    "    return slow.getData()\n",
    "\n",
    "\n",
    "fast_slow_mid(head)"
   ]
  },
  {
   "cell_type": "code",
   "execution_count": 42,
   "id": "a1a8fc5a",
   "metadata": {},
   "outputs": [],
   "source": [
    "#### creating single linked list\n",
    "\n",
    "class Node:\n",
    "    def __init__(self,data=None,Next = None):\n",
    "        self.data=data\n",
    "        self.next=Next\n",
    "        \n",
    "    def setData(self,data):\n",
    "        self.data=data\n",
    "        \n",
    "    def getData(self):\n",
    "        return self.data\n",
    "    \n",
    "    def setNext(self,Next):\n",
    "        self.next=Next\n",
    "        \n",
    "    def getNext(self):\n",
    "        return self.next\n",
    "    \n",
    "head = Node(1)\n",
    "second = Node(2)\n",
    "third= Node(3)\n",
    "fourth = Node(4)\n",
    "fifth = Node(5)\n",
    "sixth = Node(6)\n",
    "\n",
    "head.setNext(second)\n",
    "second.setNext(third)\n",
    "third.setNext(fourth)\n",
    "fourth.setNext(fifth)\n",
    "fifth.setNext(sixth)\n",
    "sixth.setNext(fourth)\n",
    "\n"
   ]
  },
  {
   "cell_type": "code",
   "execution_count": 46,
   "id": "fb1ddeac",
   "metadata": {},
   "outputs": [
    {
     "data": {
      "text/plain": [
       "True"
      ]
     },
     "execution_count": 46,
     "metadata": {},
     "output_type": "execute_result"
    }
   ],
   "source": [
    "def check_cycle(head):\n",
    "    fast=head\n",
    "    slow=head\n",
    "    \n",
    "    while fast and fast.getNext():\n",
    "        slow=slow.getNext()\n",
    "        fast=fast.getNext().getNext()\n",
    "        if fast and slow.getData()==fast.getNext().getData():\n",
    "#             print(f\"Cycle starting position was >> {fast.getData()}\")\n",
    "            return True \n",
    "        \n",
    "    else:\n",
    "#         print(\"There is no cycle in linked list\")\n",
    "        return False\n",
    "    \n",
    "check_cycle(head)"
   ]
  },
  {
   "cell_type": "code",
   "execution_count": 47,
   "id": "e0d59f7d",
   "metadata": {},
   "outputs": [],
   "source": [
    "\n",
    "def check_cycle(head):\n",
    "    slow = head\n",
    "    fast = head\n",
    "    \n",
    "    # Step 1: Detect if there is a cycle\n",
    "    while fast and fast.getNext():\n",
    "        slow = slow.getNext()\n",
    "        fast = fast.getNext().getNext()\n",
    "        \n",
    "        if slow == fast:\n",
    "            # Step 2: Find the start of the cycle\n",
    "            cycle_start = head\n",
    "            while cycle_start != slow:\n",
    "                cycle_start = cycle_start.getNext()\n",
    "                slow = slow.getNext()\n",
    "            print(f\"Cycle starting position was >> {cycle_start.getData()}\")\n",
    "            return True\n",
    "    \n",
    "    print(\"There is no cycle in linked list\")\n",
    "    return False\n",
    "\n",
    "# Example usage\n",
    "# Assuming `head` is the head node of the linked list\n",
    "# check_cycle(head)\n"
   ]
  },
  {
   "cell_type": "code",
   "execution_count": 48,
   "id": "1f5c1354",
   "metadata": {},
   "outputs": [
    {
     "name": "stdout",
     "output_type": "stream",
     "text": [
      "Cycle starting position was >> 4\n"
     ]
    },
    {
     "data": {
      "text/plain": [
       "True"
      ]
     },
     "execution_count": 48,
     "metadata": {},
     "output_type": "execute_result"
    }
   ],
   "source": [
    "check_cycle(head)"
   ]
  },
  {
   "cell_type": "code",
   "execution_count": 50,
   "id": "0a3993b7",
   "metadata": {
    "scrolled": true
   },
   "outputs": [
    {
     "data": {
      "text/plain": [
       "4"
      ]
     },
     "execution_count": 50,
     "metadata": {},
     "output_type": "execute_result"
    }
   ],
   "source": [
    "## optimized approach to reach first node of starting of a cycle\n",
    "\n",
    "def check_startNode_cycle(head):\n",
    "    slow = head\n",
    "    fast = head\n",
    "    isCycle=False\n",
    "    while fast and fast.getNext():\n",
    "        slow =  slow.getNext()\n",
    "        fast = fast.getNext().getNext()\n",
    "        \n",
    "        if fast and fast.getData()==slow.getData():\n",
    "            isCycle=True\n",
    "            break\n",
    "            \n",
    "    if not isCycle:\n",
    "        return None\n",
    "    \n",
    "    temp=head\n",
    "    while temp.getData()!=slow.getData():\n",
    "        temp=temp.getNext()\n",
    "        slow= slow.getNext()\n",
    "        \n",
    "    return temp.getData()\n",
    "\n",
    "check_startNode_cycle(head)"
   ]
  },
  {
   "cell_type": "code",
   "execution_count": 55,
   "id": "49658b7f",
   "metadata": {},
   "outputs": [
    {
     "name": "stdout",
     "output_type": "stream",
     "text": [
      "2 3 4 5 6 7\n",
      "2 -> 3 -> 4 -> 5 -> 6 -> 7 -> "
     ]
    }
   ],
   "source": [
    "## reading input from user\n",
    "\n",
    "class Node:\n",
    "    def __init__(self,data=None,Next=None):\n",
    "        self.data=data\n",
    "        self.next=Next\n",
    "        \n",
    "def make_linked_list(arr):\n",
    "    if not arr:\n",
    "        return None\n",
    "    head = Node(arr[0])\n",
    "    current = head\n",
    "    for i in range(1,len(arr)):\n",
    "        new_node = Node(arr[i])\n",
    "        current.next = new_node\n",
    "        current = new_node\n",
    "        \n",
    "    return head\n",
    "\n",
    "arr = list(map(int,input().split()))\n",
    "link_list = make_linked_list(arr)\n",
    "while link_list:\n",
    "    print(link_list.data ,\"->\",end=\" \")\n",
    "    link_list=link_list.next"
   ]
  },
  {
   "cell_type": "code",
   "execution_count": 57,
   "id": "082603c0",
   "metadata": {},
   "outputs": [
    {
     "data": {
      "text/plain": [
       "7"
      ]
     },
     "execution_count": 57,
     "metadata": {},
     "output_type": "execute_result"
    }
   ],
   "source": [
    "7%10"
   ]
  },
  {
   "cell_type": "code",
   "execution_count": null,
   "id": "707ec89c",
   "metadata": {},
   "outputs": [],
   "source": []
  }
 ],
 "metadata": {
  "kernelspec": {
   "display_name": "Python 3 (ipykernel)",
   "language": "python",
   "name": "python3"
  },
  "language_info": {
   "codemirror_mode": {
    "name": "ipython",
    "version": 3
   },
   "file_extension": ".py",
   "mimetype": "text/x-python",
   "name": "python",
   "nbconvert_exporter": "python",
   "pygments_lexer": "ipython3",
   "version": "3.11.5"
  }
 },
 "nbformat": 4,
 "nbformat_minor": 5
}
