{
 "cells": [
  {
   "cell_type": "code",
   "execution_count": 1,
   "id": "1c9f45ac",
   "metadata": {},
   "outputs": [],
   "source": [
    "class Node :\n",
    "\n",
    "  def __init__(self, data, next=None):\n",
    "    self.data = data\n",
    "    self.next = next\n",
    "\n",
    "  def getData(self):\n",
    "    return self.data\n",
    "\n",
    "  def setData(self, data):\n",
    "    self.data = data\n",
    "\n",
    "  def setNext(self, next):\n",
    "    self.next = next\n",
    "\n",
    "  def getNext(self):\n",
    "    return self.next\n",
    "\n",
    "\n",
    "class QueueLL:\n",
    "    def __init__(self):\n",
    "        self.head = None\n",
    "        self.tail = None\n",
    "        self.size = 0\n",
    "        \n",
    "    def isEmpty(self):\n",
    "        return self.head == None\n",
    "    \n",
    "    def enQueue(self,data):\n",
    "        node = Node(data)\n",
    "        if self.isEmpty():\n",
    "            self.head = node\n",
    "            self.tail = node\n",
    "            \n",
    "        else:\n",
    "            self.tail.setNext(node)\n",
    "            self.tail = self.tail.getNext()\n",
    "        \n",
    "        self.size +=1\n",
    "        \n",
    "    def deQueue(self):\n",
    "        if self.isEmpty():\n",
    "            print(\"Empty..\")\n",
    "            \n",
    "            return\n",
    "        \n",
    "        data = self.head.getData()\n",
    "        \n",
    "        ## checking if it only one element\n",
    "        \n",
    "        if self.head == self.tail:\n",
    "            self.head = None\n",
    "            self.tail = None\n",
    "            \n",
    "        else:\n",
    "            self.head = self.head.getNext()\n",
    "            \n",
    "        self.size -= 1\n",
    "        return data\n",
    "        \n",
    "    def length(self):\n",
    "        return self.size\n",
    "    \n",
    "    def traverse(self):\n",
    "        temp = self.head\n",
    "        while temp:\n",
    "            print(temp.getData(),end=\"->\")\n",
    "            temp = temp.getNext()\n",
    "            "
   ]
  },
  {
   "cell_type": "code",
   "execution_count": 2,
   "id": "d6c6979f",
   "metadata": {},
   "outputs": [],
   "source": [
    "## implement stack using queue"
   ]
  },
  {
   "cell_type": "code",
   "execution_count": 11,
   "id": "b398c493",
   "metadata": {},
   "outputs": [],
   "source": [
    "class StackQueue:\n",
    "    def __init__(self):\n",
    "        self.q1 = QueueLL()\n",
    "        self.q2 = QueueLL()\n",
    "        \n",
    "    def isEmpty(self):\n",
    "        return self.q1.isEmpty()\n",
    "        \n",
    "    def push(self,data):\n",
    "        self.q1.enQueue(data)\n",
    "        \n",
    "    def pop(self):\n",
    "        if self.isEmpty():\n",
    "            print(\"empty\")\n",
    "        ## we need to pick up the last element\n",
    "        while not self.q1.isEmpty():\n",
    "            data = self.q1.deQueue()\n",
    "            if not self.q1.isEmpty():\n",
    "                self.q2.enQueue(data)\n",
    "                \n",
    "        self.q1,self.q2 = self.q2,self.q1\n",
    "        return data\n",
    "        \n",
    "    def traverse(self):\n",
    "        self.q1.traverse()\n",
    "        \n",
    "    "
   ]
  },
  {
   "cell_type": "code",
   "execution_count": 12,
   "id": "ef923124",
   "metadata": {},
   "outputs": [],
   "source": [
    "s = StackQueue()"
   ]
  },
  {
   "cell_type": "code",
   "execution_count": 13,
   "id": "2edc57c6",
   "metadata": {},
   "outputs": [],
   "source": [
    "s.push(8)"
   ]
  },
  {
   "cell_type": "code",
   "execution_count": 14,
   "id": "c83e31c3",
   "metadata": {},
   "outputs": [],
   "source": [
    "s.push(6)"
   ]
  },
  {
   "cell_type": "code",
   "execution_count": 15,
   "id": "a4276dfc",
   "metadata": {},
   "outputs": [],
   "source": [
    "s.push(7)"
   ]
  },
  {
   "cell_type": "code",
   "execution_count": 16,
   "id": "a59eb775",
   "metadata": {},
   "outputs": [],
   "source": [
    "s.push(3)"
   ]
  },
  {
   "cell_type": "code",
   "execution_count": 17,
   "id": "832ba3f1",
   "metadata": {},
   "outputs": [
    {
     "name": "stdout",
     "output_type": "stream",
     "text": [
      "8->6->7->3->"
     ]
    }
   ],
   "source": [
    "s.traverse()"
   ]
  },
  {
   "cell_type": "code",
   "execution_count": 18,
   "id": "f5dfd3c5",
   "metadata": {},
   "outputs": [
    {
     "data": {
      "text/plain": [
       "3"
      ]
     },
     "execution_count": 18,
     "metadata": {},
     "output_type": "execute_result"
    }
   ],
   "source": [
    "s.pop()"
   ]
  },
  {
   "cell_type": "code",
   "execution_count": 20,
   "id": "2d7842f2",
   "metadata": {},
   "outputs": [
    {
     "data": {
      "text/plain": [
       "7"
      ]
     },
     "execution_count": 20,
     "metadata": {},
     "output_type": "execute_result"
    }
   ],
   "source": [
    "s.pop()"
   ]
  },
  {
   "cell_type": "code",
   "execution_count": 21,
   "id": "27dd01bc",
   "metadata": {},
   "outputs": [
    {
     "name": "stdout",
     "output_type": "stream",
     "text": [
      "8->6->"
     ]
    }
   ],
   "source": [
    "s.traverse()"
   ]
  },
  {
   "cell_type": "code",
   "execution_count": 22,
   "id": "7ed6e2e9",
   "metadata": {},
   "outputs": [],
   "source": [
    "#### implement Queue using stack"
   ]
  },
  {
   "cell_type": "code",
   "execution_count": 23,
   "id": "6a06a429",
   "metadata": {},
   "outputs": [],
   "source": [
    "class StackLL:\n",
    "    def __init__(self):\n",
    "        self.head = None\n",
    "        \n",
    "    def isEmpty(self):\n",
    "        return self.head == None  ## in begining head is none\n",
    "    \n",
    "    def push(self,data):\n",
    "        node = Node(data)\n",
    "        node.setNext(self.head)\n",
    "        self.head = node\n",
    "        \n",
    "    def pop(self):\n",
    "        if self.isEmpty():\n",
    "            print(\"Empty\")\n",
    "            return\n",
    "        data = self.head.getData()\n",
    "        self.head = self.head.getNext()\n",
    "        return data\n",
    "    \n",
    "    def traverse(self):\n",
    "        if self.isEmpty():\n",
    "            print(\"Empty\")\n",
    "            return\n",
    "        temp = self.head\n",
    "        while temp:\n",
    "            print(temp.getData(),end=\"->\")\n",
    "            temp = temp.getNext()\n",
    "            \n",
    "    def peak(self):\n",
    "        if self.isEmpty():\n",
    "            print(\"Empty\")\n",
    "            return\n",
    "        data = self.head.getData()\n",
    "        return data\n",
    "    \n",
    "    def size(self):\n",
    "        if self.isEmpty():\n",
    "            print(\"Empty\")\n",
    "            return \n",
    "        count = 0\n",
    "        temp = self.head\n",
    "        while temp:\n",
    "            count+=1\n",
    "            temp=temp.getNext()\n",
    "        return count\n",
    "        "
   ]
  },
  {
   "cell_type": "code",
   "execution_count": 46,
   "id": "987fa7d7",
   "metadata": {},
   "outputs": [],
   "source": [
    "class QueueStack:\n",
    "    def __init__(self):\n",
    "        self.s1 = StackLL()\n",
    "        self.s2 = StackLL()\n",
    "           \n",
    "    def isEmpty(self):\n",
    "        return self.s1.isEmpty()\n",
    "        \n",
    "    def enQueue(self,data):\n",
    "        self.s1.push(data)\n",
    "        \n",
    "    def deQueue(self):\n",
    "        if self.s1.isEmpty():\n",
    "            print(\"empty\")\n",
    "        ## we need to pick up the last element\n",
    "        data =  None\n",
    "        while not self.s1.isEmpty():\n",
    "            data = self.s1.pop()\n",
    "            if not self.s1.isEmpty():\n",
    "                self.s2.push(data)\n",
    "        self.s1,self.s2 = self.s2,self.s1\n",
    "        return data\n",
    "    def traverse(self):\n",
    "        self.s1.traverse()\n",
    "        \n",
    "    "
   ]
  },
  {
   "cell_type": "code",
   "execution_count": 42,
   "id": "9126a44f",
   "metadata": {},
   "outputs": [],
   "source": [
    "q = QueueStack()"
   ]
  },
  {
   "cell_type": "code",
   "execution_count": 43,
   "id": "a5c32f78",
   "metadata": {},
   "outputs": [],
   "source": [
    "for i in range(1,6):\n",
    "    q.enQueue(i)"
   ]
  },
  {
   "cell_type": "code",
   "execution_count": 44,
   "id": "d6c32285",
   "metadata": {},
   "outputs": [
    {
     "name": "stdout",
     "output_type": "stream",
     "text": [
      "5->4->3->2->1->"
     ]
    }
   ],
   "source": [
    "q.traverse()"
   ]
  },
  {
   "cell_type": "code",
   "execution_count": 45,
   "id": "a53b314e",
   "metadata": {},
   "outputs": [
    {
     "data": {
      "text/plain": [
       "1"
      ]
     },
     "execution_count": 45,
     "metadata": {},
     "output_type": "execute_result"
    }
   ],
   "source": [
    "q.deQueue()"
   ]
  },
  {
   "cell_type": "code",
   "execution_count": null,
   "id": "d27f570e",
   "metadata": {},
   "outputs": [],
   "source": []
  }
 ],
 "metadata": {
  "kernelspec": {
   "display_name": "Python 3 (ipykernel)",
   "language": "python",
   "name": "python3"
  },
  "language_info": {
   "codemirror_mode": {
    "name": "ipython",
    "version": 3
   },
   "file_extension": ".py",
   "mimetype": "text/x-python",
   "name": "python",
   "nbconvert_exporter": "python",
   "pygments_lexer": "ipython3",
   "version": "3.11.5"
  }
 },
 "nbformat": 4,
 "nbformat_minor": 5
}
